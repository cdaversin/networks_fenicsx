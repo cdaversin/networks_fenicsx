{
 "cells": [
  {
   "cell_type": "code",
   "execution_count": 139,
   "id": "c255f274",
   "metadata": {},
   "outputs": [],
   "source": [
    "import matplotlib.pyplot as plt\n",
    "import pandas as pd\n",
    "import numpy as np"
   ]
  },
  {
   "cell_type": "code",
   "execution_count": 140,
   "id": "3a49c557",
   "metadata": {},
   "outputs": [],
   "source": [
    "# Paths to timings data\n",
    "fenics_timings = \"/home/cecile/dev/fenics-networks/applications/fenics/plots_perf/timings.txt\"\n",
    "fenicsx_timings = \"/home/cecile/dev/networks_fenicsx/demos/demo_perf/timings.txt\""
   ]
  },
  {
   "cell_type": "code",
   "execution_count": 141,
   "id": "4a630b01",
   "metadata": {},
   "outputs": [],
   "source": [
    "# Translate timings table into dictionnaries\n",
    "df_fenics = pd.read_csv(fenics_timings, sep = \"\\t\", index_col=0, header=0)\n",
    "df_fenicsx = pd.read_csv(fenicsx_timings, sep = \"\\t\", index_col=0)\n",
    "fenics_dict = df_fenics.to_dict()\n",
    "fenicsx_dict = df_fenicsx.to_dict()"
   ]
  },
  {
   "cell_type": "code",
   "execution_count": 142,
   "id": "f6c80c33",
   "metadata": {},
   "outputs": [],
   "source": [
    "def n_dict(d: dict):\n",
    "    new_dict = dict()\n",
    "    for i,n in enumerate(list(d[\"forms\"].keys())):\n",
    "        new_dict[n] = dict()\n",
    "        for key in list(d.keys()):\n",
    "            new_dict[n][key] = list(d[key].values())[i]\n",
    "    return new_dict"
   ]
  },
  {
   "cell_type": "code",
   "execution_count": 143,
   "id": "0fa91eb7",
   "metadata": {},
   "outputs": [
    {
     "name": "stdout",
     "output_type": "stream",
     "text": [
      "fenics_n_dict =  {2.0: {'forms': 3.623, 'assembly': 5.477, 'solve': 0.001}, 3.0: {'forms': 4.004, 'assembly': 7.478, 'solve': 0.002}, 4.0: {'forms': 6.449, 'assembly': 15.401, 'solve': 0.003}}\n",
      "fenicsx_n_dict =  {2.0: {'forms': 1.418, 'assembly': 0.002, 'solve': 0.0}, 3.0: {'forms': 2.108, 'assembly': 0.004, 'solve': 0.001}, 4.0: {'forms': 2.108, 'assembly': 0.004, 'solve': 0.001}}\n"
     ]
    }
   ],
   "source": [
    "# Transform initial dictionnary into {n: {forms: x, assembly: x, solve: x}, ... }\n",
    "fenics_n_dict = n_dict(fenics_dict)\n",
    "fenicsx_n_dict = n_dict(fenicsx_dict)\n",
    "print(\"fenics_n_dict = \", fenics_n_dict)\n",
    "print(\"fenicsx_n_dict = \", fenicsx_n_dict)"
   ]
  },
  {
   "cell_type": "code",
   "execution_count": 149,
   "id": "334c542e",
   "metadata": {},
   "outputs": [
    {
     "data": {
      "image/png": "[encoded data removed]",
      "text/plain": [
       "<Figure size 432x288 with 1 Axes>"
      ]
     },
     "metadata": {
      "needs_background": "light"
     },
     "output_type": "display_data"
    },
    {
     "data": {
      "text/plain": [
       "<Figure size 432x288 with 0 Axes>"
      ]
     },
     "metadata": {},
     "output_type": "display_data"
    }
   ],
   "source": [
    "# Bar plots\n",
    "\n",
    "barWidth = 0.1\n",
    "\n",
    "# Set position of bar on X axis\n",
    "br = np.arange(len(list(fenics_n_dict.keys())))\n",
    "br = [x - barWidth for x in br]\n",
    "\n",
    "# Make the plot\n",
    "color = iter(plt.cm.rainbow(np.linspace(0, 1, len(br0))))\n",
    "fig, ax = plt.subplots()\n",
    "\n",
    "for i,n in enumerate(list(fenics_n_dict.keys())):\n",
    "    c = next(color)\n",
    "    ax.bar(br, fenics_n_dict[n].values(), color=c, width=barWidth,\n",
    "                    edgecolor='grey', label=str(n))\n",
    "    ax.bar(br, fenicsx_n_dict[n].values(), color=c, hatch=\"*\", width=barWidth,\n",
    "                    edgecolor='grey', label=None)\n",
    "    br = [x + barWidth for x in br]\n",
    "\n",
    "# Adding labels / ticks\n",
    "xlabels = [\"forms\", \"assembly\", \"solve\"]\n",
    "ax.set_ylabel('Time [s]', fontweight='bold', fontsize=15)\n",
    "ax.set_xticks(range(len(list(fenics_n_dict.keys()))))\n",
    "ax.set_xticklabels(xlabels, fontsize=15)\n",
    "ax.legend()\n",
    "\n",
    "ax.set_yscale('log')\n",
    "\n",
    "plt.show()\n",
    "plt.savefig(\"/home/cecile/dev/networks_fenicsx/demos/demo_perf/timings_comp.png\")\n",
    "\n"
   ]
  },
  {
   "cell_type": "code",
   "execution_count": null,
   "id": "79ddfb7f",
   "metadata": {},
   "outputs": [],
   "source": []
  },
  {
   "cell_type": "code",
   "execution_count": null,
   "id": "9e88be76",
   "metadata": {},
   "outputs": [],
   "source": []
  }
 ],
 "metadata": {
  "kernelspec": {
   "display_name": "Python 3 (ipykernel)",
   "language": "python",
   "name": "python3"
  },
  "language_info": {
   "codemirror_mode": {
    "name": "ipython",
    "version": 3
   },
   "file_extension": ".py",
   "mimetype": "text/x-python",
   "name": "python",
   "nbconvert_exporter": "python",
   "pygments_lexer": "ipython3",
   "version": "3.8.10"
  }
 },
 "nbformat": 4,
 "nbformat_minor": 5
}
