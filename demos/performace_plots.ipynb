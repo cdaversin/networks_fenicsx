{
 "cells": [
  {
   "cell_type": "code",
   "execution_count": 30,
   "id": "c255f274",
   "metadata": {},
   "outputs": [],
   "source": [
    "import matplotlib.pyplot as plt\n",
    "import pandas as pd\n",
    "import numpy as np"
   ]
  },
  {
   "cell_type": "code",
   "execution_count": 31,
   "id": "3a49c557",
   "metadata": {},
   "outputs": [],
   "source": [
    "# Paths to timings data\n",
    "fenics_timings = \"/home/cecile/dev/fenics-networks/applications/fenics/plots_perf/timings.txt\"\n",
    "fenicsx_timings = \"/home/cecile/dev/networks_fenicsx/demos/demo_perf/timings.txt\""
   ]
  },
  {
   "cell_type": "code",
   "execution_count": 32,
   "id": "4a630b01",
   "metadata": {},
   "outputs": [
    {
     "name": "stdout",
     "output_type": "stream",
     "text": [
      "fenics_dict =  {'forms': {3.0: 9.902, 4.0: 8.39, 5.0: 14.549, 6.0: 29.919, 7.0: 61.113}, 'assembly': {3.0: 13.552, 4.0: 22.257, 5.0: 39.123, 6.0: 90.533, 7.0: 373.355}, 'solve': {3.0: 0.002, 4.0: 0.004, 5.0: 0.005, 6.0: 0.008, 7.0: 0.015}}\n"
     ]
    }
   ],
   "source": [
    "# Translate timings table into dictionnaries\n",
    "df_fenics = pd.read_csv(fenics_timings, sep = \"\\t\", index_col=0, header=0)\n",
    "df_fenicsx = pd.read_csv(fenicsx_timings, sep = \"\\t\", index_col=0)\n",
    "fenics_dict = df_fenics.to_dict()\n",
    "fenicsx_dict = df_fenicsx.to_dict()\n",
    "print(\"fenics_dict = \", fenics_dict)"
   ]
  },
  {
   "cell_type": "code",
   "execution_count": 33,
   "id": "f6c80c33",
   "metadata": {},
   "outputs": [],
   "source": [
    "def n_dict(d: dict):\n",
    "    new_dict = dict()\n",
    "    for i,n in enumerate(list(d[\"forms\"].keys())):\n",
    "        new_dict[n] = dict()\n",
    "        for key in list(d.keys()):\n",
    "            new_dict[n][key] = list(d[key].values())[i]\n",
    "    return new_dict"
   ]
  },
  {
   "cell_type": "code",
   "execution_count": 34,
   "id": "0fa91eb7",
   "metadata": {},
   "outputs": [
    {
     "name": "stdout",
     "output_type": "stream",
     "text": [
      "fenics_n_dict =  {3.0: {'forms': 9.902, 'assembly': 13.552, 'solve': 0.002}, 4.0: {'forms': 8.39, 'assembly': 22.257, 'solve': 0.004}, 5.0: {'forms': 14.549, 'assembly': 39.123, 'solve': 0.005}, 6.0: {'forms': 29.919, 'assembly': 90.533, 'solve': 0.008}, 7.0: {'forms': 61.113, 'assembly': 373.355, 'solve': 0.015}}\n",
      "fenicsx_n_dict =  {3.0: {'forms': 2.128, 'assembly': 0.004, 'solve': 0.001}, 4.0: {'forms': 2.147, 'assembly': 0.016, 'solve': 0.002}, 5.0: {'forms': 2.391, 'assembly': 0.242, 'solve': 0.01}, 6.0: {'forms': 3.271, 'assembly': 1.665, 'solve': 0.024}, 7.0: {'forms': 6.935, 'assembly': 78.96, 'solve': 0.17}}\n"
     ]
    }
   ],
   "source": [
    "# Transform initial dictionnary into {n: {forms: x, assembly: x, solve: x}, ... }\n",
    "fenics_n_dict = n_dict(fenics_dict)\n",
    "fenicsx_n_dict = n_dict(fenicsx_dict)\n",
    "print(\"fenics_n_dict = \", fenics_n_dict)\n",
    "print(\"fenicsx_n_dict = \", fenicsx_n_dict)"
   ]
  },
  {
   "cell_type": "code",
   "execution_count": 38,
   "id": "334c542e",
   "metadata": {},
   "outputs": [
    {
     "name": "stdout",
     "output_type": "stream",
     "text": [
      "br =  [-0.1, 0.9, 1.9]\n",
      "fenics_n_dict[key].values() =  dict_values([9.902, 13.552, 0.002])\n",
      "fenics_n_dict[key].values() =  dict_values([8.39, 22.257, 0.004])\n",
      "fenics_n_dict[key].values() =  dict_values([14.549, 39.123, 0.005])\n",
      "fenics_n_dict[key].values() =  dict_values([29.919, 90.533, 0.008])\n",
      "fenics_n_dict[key].values() =  dict_values([61.113, 373.355, 0.015])\n"
     ]
    },
    {
     "data": {
      "image/png": "[encoded data removed]",
      "text/plain": [
       "<Figure size 432x288 with 1 Axes>"
      ]
     },
     "metadata": {
      "needs_background": "light"
     },
     "output_type": "display_data"
    }
   ],
   "source": [
    "# Bar plots\n",
    "\n",
    "barWidth = 0.1\n",
    "\n",
    "# Set position of bar on X axis\n",
    "first_key = list(fenics_n_dict.keys())[0]\n",
    "br = np.arange(len(fenics_n_dict[first_key].keys()))\n",
    "br = [x - barWidth for x in br]\n",
    "print(\"br = \", br)\n",
    "\n",
    "# Make the plot\n",
    "color = iter(plt.cm.rainbow(np.linspace(0, 1, len(list(fenics_n_dict.keys())))))\n",
    "fig, ax = plt.subplots()\n",
    "ax.set_yscale('log')\n",
    "\n",
    "for i,key in enumerate(list(fenics_n_dict.keys())):\n",
    "    c = next(color)\n",
    "    print(\"fenics_n_dict[key].values() = \", fenics_n_dict[key].values())\n",
    "    ax.bar(br, fenics_n_dict[key].values(), color=c, width=barWidth, \n",
    "           edgecolor='grey', label=str(key))\n",
    "    ax.bar(br, fenicsx_n_dict[key].values(), color=c, width=barWidth, \n",
    "           edgecolor='grey', hatch='**')\n",
    "    br = [x + barWidth for x in br]\n",
    "\n",
    "# Adding labels / ticks\n",
    "xlabels = [\"forms\", \"assembly\", \"solve\"]\n",
    "ax.set_ylabel('Time [s]', fontweight='bold', fontsize=15)\n",
    "ax.set_xticks(range(len(br)))\n",
    "ax.set_xticklabels(xlabels, fontsize=15)\n",
    "ax.legend()\n",
    "\n",
    "plt.savefig(\"/home/cecile/dev/networks_fenicsx/demos/demo_perf/timings_comp.png\")\n",
    "\n"
   ]
  },
  {
   "cell_type": "code",
   "execution_count": null,
   "id": "79ddfb7f",
   "metadata": {},
   "outputs": [],
   "source": []
  },
  {
   "cell_type": "code",
   "execution_count": null,
   "id": "9e88be76",
   "metadata": {},
   "outputs": [],
   "source": []
  }
 ],
 "metadata": {
  "kernelspec": {
   "display_name": "Python 3 (ipykernel)",
   "language": "python",
   "name": "python3"
  },
  "language_info": {
   "codemirror_mode": {
    "name": "ipython",
    "version": 3
   },
   "file_extension": ".py",
   "mimetype": "text/x-python",
   "name": "python",
   "nbconvert_exporter": "python",
   "pygments_lexer": "ipython3",
   "version": "3.8.10"
  }
 },
 "nbformat": 4,
 "nbformat_minor": 5
}
