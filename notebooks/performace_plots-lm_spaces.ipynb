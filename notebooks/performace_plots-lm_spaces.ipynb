{
 "cells": [
  {
   "cell_type": "code",
   "execution_count": 8,
   "id": "c255f274",
   "metadata": {},
   "outputs": [],
   "source": [
    "import matplotlib.pyplot as plt\n",
    "import pandas as pd\n",
    "import numpy as np\n",
    "import time\n",
    "from pathlib import Path\n",
    "import os"
   ]
  },
  {
   "cell_type": "code",
   "execution_count": 15,
   "id": "3a49c557",
   "metadata": {},
   "outputs": [],
   "source": [
    "# Paths to timings data\n",
    "#fenics_timings = \"/home/cecile/dev/fenics-networks/applications/fenics/plot_perf_lm_spaces/timings_lm_spaces.txt\"\n",
    "#fenicsx_timings = \"/home/cecile/dev/networks_fenicsx/demos/demo_perf_lm_spaces/timings_lm_spaces.txt\"\n",
    "\n",
    "current_dir = os.getcwd()\n",
    "fenics_timings = \"/home/cecile/dev/fenics-networks/applications/fenics/plots_perf/timings_lm_spaces.txt\"\n",
    "fenicsx_timings = \"/home/cecile/dev/networks_fenicsx/demos/demo_perf_lm_spaces_docker2/timings_lm_spaces.txt\""
   ]
  },
  {
   "cell_type": "code",
   "execution_count": 16,
   "id": "4a630b01",
   "metadata": {},
   "outputs": [
    {
     "name": "stdout",
     "output_type": "stream",
     "text": [
      "fenics_dict =  {'forms': {2.0: 1.087, 3.0: 1.032, 4.0: 1.043, 5.0: 1.091, 6.0: 1.238}, 'assembly': {2.0: 6.527, 3.0: 14.898, 4.0: 32.553, 5.0: 74.686, 6.0: 210.477}, 'solve': {2.0: 0.001, 3.0: 0.002, 4.0: 0.004, 5.0: 0.006, 6.0: 0.012}}\n"
     ]
    }
   ],
   "source": [
    "# Translate timings table into dictionnaries\n",
    "df_fenics = pd.read_csv(fenics_timings, sep = \"\\t\", index_col=0, header=0)\n",
    "df_fenicsx = pd.read_csv(fenicsx_timings, sep = \"\\t\", index_col=0)\n",
    "fenics_dict = df_fenics.to_dict()\n",
    "fenicsx_dict = df_fenicsx.to_dict()\n",
    "print(\"fenics_dict = \", fenics_dict)"
   ]
  },
  {
   "cell_type": "code",
   "execution_count": 17,
   "id": "f6c80c33",
   "metadata": {},
   "outputs": [],
   "source": [
    "def n_dict(d: dict):\n",
    "    new_dict = dict()\n",
    "    for i,n in enumerate(list(d[\"forms\"].keys())):\n",
    "        new_dict[n] = dict()\n",
    "        for key in list(d.keys()):\n",
    "            new_dict[n][key] = list(d[key].values())[i]\n",
    "    return new_dict"
   ]
  },
  {
   "cell_type": "code",
   "execution_count": 18,
   "id": "0fa91eb7",
   "metadata": {},
   "outputs": [],
   "source": [
    "# Transform initial dictionnary into {n: {forms: x, assembly: x, solve: x}, ... }\n",
    "fenics_n_dict = n_dict(fenics_dict)\n",
    "fenicsx_n_dict = n_dict(fenicsx_dict)\n",
    "#print(\"fenics_n_dict = \", fenics_n_dict)\n",
    "#print(\"fenicsx_n_dict = \", fenicsx_n_dict)"
   ]
  },
  {
   "cell_type": "code",
   "execution_count": 19,
   "id": "334c542e",
   "metadata": {},
   "outputs": [
    {
     "name": "stdout",
     "output_type": "stream",
     "text": [
      "n =  2.0\n",
      "forms : 0.7 x faster\n",
      "assembly : 1631.8 x faster\n",
      "n =  3.0\n",
      "forms : 0.7 x faster\n",
      "assembly : 4966.0 x faster\n",
      "n =  4.0\n",
      "forms : 0.7 x faster\n",
      "assembly : 6510.6 x faster\n",
      "n =  5.0\n",
      "forms : 0.6 x faster\n",
      "assembly : 4393.3 x faster\n",
      "n =  6.0\n",
      "forms : 0.7 x faster\n",
      "assembly : 7257.8 x faster\n"
     ]
    },
    {
     "data": {
      "text/plain": [
       "<matplotlib.legend.Legend at 0x7f5549f58b50>"
      ]
     },
     "execution_count": 19,
     "metadata": {},
     "output_type": "execute_result"
    },
    {
     "data": {
      "image/png": "[encoded data removed]",
      "text/plain": [
       "<Figure size 432x288 with 1 Axes>"
      ]
     },
     "metadata": {
      "needs_background": "light"
     },
     "output_type": "display_data"
    }
   ],
   "source": [
    "# Bar plots - all the data in the same plot\n",
    "\n",
    "barWidth = 0.1\n",
    "\n",
    "# Set position of bar on X axis\n",
    "first_key = list(fenics_n_dict.keys())[0]\n",
    "br = np.arange(len(fenics_n_dict[first_key].keys()))\n",
    "br = [x - barWidth for x in br]\n",
    "# print(\"br = \", br)\n",
    "\n",
    "# Make the plot\n",
    "color = iter(plt.cm.rainbow(np.linspace(0, 1, len(list(fenics_n_dict.keys())))))\n",
    "fig, ax = plt.subplots()\n",
    "ax.set_yscale('log')\n",
    "\n",
    "n_edges = 1\n",
    "for i,key in enumerate(list(fenics_n_dict.keys())):\n",
    "    n_edges += int(pow(2,key-1))\n",
    "    c = next(color)\n",
    "    # print(\"fenics_n_dict[\", key, \"].values() = \", fenics_n_dict[key].values())\n",
    "    # print(\"fenicsx_n_dict[\", key, \"].values() = \", fenicsx_n_dict[key].values())\n",
    "    ax.bar(br, fenics_n_dict[key].values(), color=c, width=barWidth, \n",
    "           edgecolor='grey', label=str(n_edges) + \" edges\")\n",
    "    ax.bar(br, fenicsx_n_dict[key].values(), color=c, width=barWidth, \n",
    "           edgecolor='black', hatch='--')\n",
    "    br = [x + barWidth for x in br]\n",
    "    \n",
    "    # Compute how much faster\n",
    "    forms_gain = list(fenics_n_dict[key].values())[0]/list(fenicsx_n_dict[key].values())[0]\n",
    "    assembly_gain = list(fenics_n_dict[key].values())[1]/list(fenicsx_n_dict[key].values())[1]\n",
    "    print(\"n = \", key)\n",
    "    print(\"forms : %.1f x faster\" % forms_gain)\n",
    "    print(\"assembly : %.1f x faster\" % assembly_gain)\n",
    "\n",
    "# Adding labels / ticks\n",
    "xlabels = [\"forms\", \"assembly\", \"solve\"]\n",
    "ax.set_ylabel('Time [s]', fontweight='bold', fontsize=15)\n",
    "ax.set_xticks(range(len(br)))\n",
    "ax.set_xticklabels(xlabels, fontsize=15)\n",
    "ax.legend()\n",
    "\n",
    "# plt.savefig(\"/home/cecile/dev/networks_fenicsx/demos/demo_perf_lm_spaces/timings_comp.png\",\n",
    "#             facecolor='white',\n",
    "#             transparent=False,\n",
    "#             dpi=300,\n",
    "#             format=\"png\")\n",
    "\n"
   ]
  },
  {
   "cell_type": "code",
   "execution_count": 20,
   "id": "cb3676eb",
   "metadata": {},
   "outputs": [
    {
     "data": {
      "image/png": "[encoded data removed]",
      "text/plain": [
       "<Figure size 1080x288 with 3 Axes>"
      ]
     },
     "metadata": {
      "needs_background": "light"
     },
     "output_type": "display_data"
    }
   ],
   "source": [
    "# Bar plots - one plot per task (forms - assembly - solve)\n",
    "fig, (ax_forms, ax_assembly, ax_solve) = plt.subplots(1, 3)\n",
    "fig.set_figwidth(15)\n",
    "fig.tight_layout(pad=3.0)\n",
    "\n",
    "ns = list(fenics_n_dict.keys())\n",
    "nb_edges = [int(pow(2,key-1)) for key in ns]\n",
    "\n",
    "x = np.arange(len(ns))  # the label locations\n",
    "width = 0.25  # the width of the bars\n",
    "\n",
    "### ----------- Forms ----------- ###\n",
    "#ax_forms.set_yscale('log')\n",
    "fenics_forms = fenics_dict[\"forms\"]\n",
    "fenicsx_forms = fenicsx_dict[\"forms\"]\n",
    "forms_dict = {'FEniCS': fenics_forms.values(), 'FEniCSx': fenicsx_forms.values()}\n",
    "\n",
    "multiplier = 0\n",
    "for attribute, measurement in forms_dict.items():\n",
    "    offset = width * multiplier\n",
    "    rects = ax_forms.bar(x + offset, measurement, width, label=attribute)\n",
    "    ax_forms.bar_label(rects, padding=3)\n",
    "    multiplier += 1\n",
    "\n",
    "ax_forms.set_ylabel('Time (s)')\n",
    "ax_forms.set_xlabel('Edges')\n",
    "ax_forms.set_title('Forms')\n",
    "ax_forms.set_xticks(x + width/2, labels=[str(n) for n in nb_edges])\n",
    "ax_forms.legend(loc='upper left')\n",
    "ax_forms.set_ylim(0, 3.2)\n",
    "### -------------------------------- ###\n",
    "\n",
    "### ----------- Assembly ----------- ###\n",
    "ax_assembly.set_yscale('log')\n",
    "fenics_assembly = fenics_dict[\"assembly\"]\n",
    "fenicsx_assembly = fenicsx_dict[\"assembly\"]\n",
    "assembly_dict = {'FEniCS': fenics_assembly.values(), 'FEniCSx': fenicsx_assembly.values()}\n",
    "\n",
    "multiplier = 0\n",
    "for attribute, measurement in assembly_dict.items():\n",
    "    offset = width * multiplier\n",
    "    rects = ax_assembly.bar(x + offset, measurement, width, label=attribute)\n",
    "    ax_assembly.bar_label(rects, padding=3)\n",
    "    multiplier += 1\n",
    "    \n",
    "ax_assembly.set_ylabel('Time (s)')\n",
    "ax_assembly.set_xlabel('Edges')\n",
    "ax_assembly.set_title('Assembly')\n",
    "ax_assembly.set_xticks(x + width/2, labels=[str(n) for n in nb_edges])\n",
    "ax_assembly.legend(loc='upper left')\n",
    "ax_assembly.set_ylim(1e-8, 10**5)\n",
    "### -------------------------------- ###\n",
    "\n",
    "### ----------- Solve ----------- ###\n",
    "#ax_solve.set_yscale('log')\n",
    "fenics_solve = fenics_dict[\"solve\"]\n",
    "fenicsx_solve = fenicsx_dict[\"solve\"]\n",
    "solve_dict = {'FEniCS': fenics_solve.values(), 'FEniCSx': fenicsx_solve.values()}\n",
    "\n",
    "multiplier = 0\n",
    "for attribute, measurement in solve_dict.items():\n",
    "    offset = width * multiplier\n",
    "    rects = ax_solve.bar(x + offset, measurement, width, label=attribute)\n",
    "    ax_solve.bar_label(rects, padding=3)\n",
    "    multiplier += 1\n",
    "    \n",
    "ax_solve.set_ylabel('Time (s)')\n",
    "ax_solve.set_xlabel('Edges')\n",
    "ax_solve.set_title('Solve')\n",
    "ax_solve.set_xticks(x + width/2, labels=[str(n) for n in nb_edges])\n",
    "ax_solve.legend(loc='upper left')\n",
    "ax_solve.set_ylim(0, 0.015)\n",
    "### -------------------------------- ###\n",
    "\n",
    "Path(current_dir + \"/../demos/plots_lm_spaces\").mkdir(exist_ok=True)\n",
    "timestr = time.strftime(\"%d%m%Y-%H%M%S\")\n",
    "plt.savefig(current_dir + \"/../demos/plots_lm_spaces/time_forms_\" + timestr + \".png\",\n",
    "                           facecolor='white',\n",
    "                           dpi=300,\n",
    "                           format=\"png\")\n"
   ]
  },
  {
   "cell_type": "code",
   "execution_count": null,
   "id": "e987d1ef",
   "metadata": {},
   "outputs": [],
   "source": []
  }
 ],
 "metadata": {
  "kernelspec": {
   "display_name": "Python 3 (ipykernel)",
   "language": "python",
   "name": "python3"
  },
  "language_info": {
   "codemirror_mode": {
    "name": "ipython",
    "version": 3
   },
   "file_extension": ".py",
   "mimetype": "text/x-python",
   "name": "python",
   "nbconvert_exporter": "python",
   "pygments_lexer": "ipython3",
   "version": "3.8.10"
  }
 },
 "nbformat": 4,
 "nbformat_minor": 5
}
