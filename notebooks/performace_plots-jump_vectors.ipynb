{
 "cells": [
  {
   "cell_type": "code",
   "execution_count": 1,
   "id": "c255f274",
   "metadata": {},
   "outputs": [],
   "source": [
    "import matplotlib.pyplot as plt\n",
    "import pandas as pd\n",
    "import numpy as np"
   ]
  },
  {
   "cell_type": "code",
   "execution_count": 10,
   "id": "3a49c557",
   "metadata": {},
   "outputs": [],
   "source": [
    "# Paths to timings data\n",
    "fenics_timings = \"/home/cecile/dev/fenics-networks/applications/fenics/plot_perf_jump_vectors/timings_lm_jump_vectors.txt\"\n",
    "fenicsx_timings = \"/home/cecile/dev/networks_fenicsx/demos/demo_perf_jump_vectors/timings_jump_vectors.txt\""
   ]
  },
  {
   "cell_type": "code",
   "execution_count": 11,
   "id": "4a630b01",
   "metadata": {},
   "outputs": [],
   "source": [
    "# Translate timings table into dictionnaries\n",
    "df_fenics = pd.read_csv(fenics_timings, sep = \"\\t\", index_col=0, header=0)\n",
    "df_fenicsx = pd.read_csv(fenicsx_timings, sep = \"\\t\", index_col=0)\n",
    "fenics_dict = df_fenics.to_dict()\n",
    "fenicsx_dict = df_fenicsx.to_dict()\n",
    "#print(\"fenics_dict = \", fenics_dict)"
   ]
  },
  {
   "cell_type": "code",
   "execution_count": 12,
   "id": "f6c80c33",
   "metadata": {},
   "outputs": [],
   "source": [
    "def n_dict(d: dict):\n",
    "    new_dict = dict()\n",
    "    for i,n in enumerate(list(d[\"forms\"].keys())):\n",
    "        new_dict[n] = dict()\n",
    "        for key in list(d.keys()):\n",
    "            new_dict[n][key] = list(d[key].values())[i]\n",
    "    return new_dict"
   ]
  },
  {
   "cell_type": "code",
   "execution_count": 13,
   "id": "0fa91eb7",
   "metadata": {},
   "outputs": [],
   "source": [
    "# Transform initial dictionnary into {n: {forms: x, assembly: x, solve: x}, ... }\n",
    "fenics_n_dict = n_dict(fenics_dict)\n",
    "fenicsx_n_dict = n_dict(fenicsx_dict)\n",
    "#print(\"fenics_n_dict = \", fenics_n_dict)\n",
    "#print(\"fenicsx_n_dict = \", fenicsx_n_dict)"
   ]
  },
  {
   "cell_type": "code",
   "execution_count": 14,
   "id": "334c542e",
   "metadata": {},
   "outputs": [
    {
     "name": "stdout",
     "output_type": "stream",
     "text": [
      "n =  2.0\n",
      "forms : 0.7 x faster\n",
      "assembly : 3966.5 x faster\n",
      "n =  3.0\n",
      "forms : 0.6 x faster\n",
      "assembly : 3421.4 x faster\n",
      "n =  4.0\n",
      "forms : 0.6 x faster\n",
      "assembly : 2430.1 x faster\n",
      "n =  5.0\n",
      "forms : 0.6 x faster\n",
      "assembly : 1023.2 x faster\n",
      "n =  6.0\n",
      "forms : 0.6 x faster\n",
      "assembly : 133.3 x faster\n"
     ]
    },
    {
     "data": {
      "image/png": "[encoded data removed]",
      "text/plain": [
       "<Figure size 432x288 with 1 Axes>"
      ]
     },
     "metadata": {
      "needs_background": "light"
     },
     "output_type": "display_data"
    }
   ],
   "source": [
    "# Bar plots\n",
    "\n",
    "barWidth = 0.1\n",
    "\n",
    "# Set position of bar on X axis\n",
    "first_key = list(fenics_n_dict.keys())[0]\n",
    "br = np.arange(len(fenics_n_dict[first_key].keys()))\n",
    "br = [x - barWidth for x in br]\n",
    "# print(\"br = \", br)\n",
    "\n",
    "# Make the plot\n",
    "color = iter(plt.cm.rainbow(np.linspace(0, 1, len(list(fenics_n_dict.keys())))))\n",
    "fig, ax = plt.subplots()\n",
    "ax.set_yscale('log')\n",
    "\n",
    "n_edges = 1\n",
    "for i,key in enumerate(list(fenics_n_dict.keys())):\n",
    "    n_edges += int(pow(2,key-1))\n",
    "    c = next(color)\n",
    "    # print(\"fenics_n_dict[\", key, \"].values() = \", fenics_n_dict[key].values())\n",
    "    # print(\"fenicsx_n_dict[\", key, \"].values() = \", fenicsx_n_dict[key].values())\n",
    "    ax.bar(br, fenics_n_dict[key].values(), color=c, width=barWidth, \n",
    "           edgecolor='grey', label=str(n_edges) + \" edges\")\n",
    "    ax.bar(br, fenicsx_n_dict[key].values(), color=c, width=barWidth, \n",
    "           edgecolor='black', hatch='--')\n",
    "    br = [x + barWidth for x in br]\n",
    "    \n",
    "    # Compute how much faster\n",
    "    forms_gain = list(fenics_n_dict[key].values())[0]/list(fenicsx_n_dict[key].values())[0]\n",
    "    assembly_gain = list(fenics_n_dict[key].values())[1]/list(fenicsx_n_dict[key].values())[1]\n",
    "    print(\"n = \", key)\n",
    "    print(\"forms : %.1f x faster\" % forms_gain)\n",
    "    print(\"assembly : %.1f x faster\" % assembly_gain)\n",
    "\n",
    "# Adding labels / ticks\n",
    "xlabels = [\"forms\", \"assembly\", \"solve\"]\n",
    "ax.set_ylabel('Time [s]', fontweight='bold', fontsize=15)\n",
    "ax.set_xticks(range(len(br)))\n",
    "ax.set_xticklabels(xlabels, fontsize=15)\n",
    "ax.legend()\n",
    "\n",
    "plt.savefig(\"/home/cecile/dev/networks_fenicsx/demos/demo_perf/timings_comp.png\",\n",
    "            facecolor='white',\n",
    "            transparent=False,\n",
    "            dpi=300,\n",
    "            format=\"png\")\n",
    "\n"
   ]
  },
  {
   "cell_type": "code",
   "execution_count": null,
   "id": "40a09fc5",
   "metadata": {},
   "outputs": [],
   "source": []
  }
 ],
 "metadata": {
  "kernelspec": {
   "display_name": "Python 3 (ipykernel)",
   "language": "python",
   "name": "python3"
  },
  "language_info": {
   "codemirror_mode": {
    "name": "ipython",
    "version": 3
   },
   "file_extension": ".py",
   "mimetype": "text/x-python",
   "name": "python",
   "nbconvert_exporter": "python",
   "pygments_lexer": "ipython3",
   "version": "3.8.10"
  }
 },
 "nbformat": 4,
 "nbformat_minor": 5
}
